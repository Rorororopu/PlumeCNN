{
 "cells": [
  {
   "cell_type": "markdown",
   "metadata": {},
   "source": [
    "# Library Import"
   ]
  },
  {
   "cell_type": "code",
   "execution_count": 3,
   "metadata": {},
   "outputs": [],
   "source": [
    "import pandas as pd\n",
    "import numpy as np\n",
    "from pathlib import Path\n",
    "\n",
    "import analyzer\n",
    "import neural_network as nn\n",
    "import convolutional_neural_network as cnn\n",
    "import visualizer"
   ]
  },
  {
   "cell_type": "markdown",
   "metadata": {},
   "source": [
    "# Training Data Set Preparation"
   ]
  },
  {
   "cell_type": "code",
   "execution_count": 11,
   "metadata": {},
   "outputs": [],
   "source": [
    "resolution = [250,250]\n",
    "# Resolution should be consistent throughout the file"
   ]
  },
  {
   "cell_type": "code",
   "execution_count": null,
   "metadata": {},
   "outputs": [],
   "source": [
    "\n",
    "# Because the training dataset are individual, the list of each data just contain themselves.\n",
    "data1 = analyzer.Data(\"MORE_DATA/db_Y_0027.okc\", resolution) \n",
    "data2 = analyzer.Data(\"MORE_DATA/db_Y_0030.okc\", resolution)\n"
   ]
  },
  {
   "cell_type": "markdown",
   "metadata": {},
   "source": [
    "# Training The Model"
   ]
  },
  {
   "cell_type": "code",
   "execution_count": 13,
   "metadata": {},
   "outputs": [
    {
     "name": "stdout",
     "output_type": "stream",
     "text": [
      "Normalizing gradient datas...\n",
      "Rearranging data to tensor for model classification...\n",
      "Obtained regularized tensor.\n",
      "Normalizing gradient datas...\n",
      "Rearranging data to tensor for model classification...\n",
      "Obtained regularized tensor.\n",
      "Epoch 1/10\n",
      "\u001b[1m62/62\u001b[0m \u001b[32m━━━━━━━━━━━━━━━━━━━━\u001b[0m\u001b[37m\u001b[0m \u001b[1m1s\u001b[0m 3ms/step - loss: 0.1421\n",
      "Epoch 2/10\n",
      "\u001b[1m62/62\u001b[0m \u001b[32m━━━━━━━━━━━━━━━━━━━━\u001b[0m\u001b[37m\u001b[0m \u001b[1m0s\u001b[0m 3ms/step - loss: 0.1140\n",
      "Epoch 3/10\n",
      "\u001b[1m62/62\u001b[0m \u001b[32m━━━━━━━━━━━━━━━━━━━━\u001b[0m\u001b[37m\u001b[0m \u001b[1m0s\u001b[0m 3ms/step - loss: 0.1141\n",
      "Epoch 4/10\n",
      "\u001b[1m62/62\u001b[0m \u001b[32m━━━━━━━━━━━━━━━━━━━━\u001b[0m\u001b[37m\u001b[0m \u001b[1m0s\u001b[0m 3ms/step - loss: 0.1140\n",
      "Epoch 5/10\n",
      "\u001b[1m62/62\u001b[0m \u001b[32m━━━━━━━━━━━━━━━━━━━━\u001b[0m\u001b[37m\u001b[0m \u001b[1m0s\u001b[0m 3ms/step - loss: 0.1139\n",
      "Epoch 6/10\n",
      "\u001b[1m62/62\u001b[0m \u001b[32m━━━━━━━━━━━━━━━━━━━━\u001b[0m\u001b[37m\u001b[0m \u001b[1m0s\u001b[0m 3ms/step - loss: 0.1140\n",
      "Epoch 7/10\n",
      "\u001b[1m62/62\u001b[0m \u001b[32m━━━━━━━━━━━━━━━━━━━━\u001b[0m\u001b[37m\u001b[0m \u001b[1m0s\u001b[0m 3ms/step - loss: 0.1140\n",
      "Epoch 8/10\n",
      "\u001b[1m62/62\u001b[0m \u001b[32m━━━━━━━━━━━━━━━━━━━━\u001b[0m\u001b[37m\u001b[0m \u001b[1m0s\u001b[0m 3ms/step - loss: 0.1140\n",
      "Epoch 9/10\n",
      "\u001b[1m62/62\u001b[0m \u001b[32m━━━━━━━━━━━━━━━━━━━━\u001b[0m\u001b[37m\u001b[0m \u001b[1m0s\u001b[0m 2ms/step - loss: 0.1139\n",
      "Epoch 10/10\n",
      "\u001b[1m62/62\u001b[0m \u001b[32m━━━━━━━━━━━━━━━━━━━━\u001b[0m\u001b[37m\u001b[0m \u001b[1m0s\u001b[0m 2ms/step - loss: 0.1140\n",
      "Epoch 1/10\n",
      "\u001b[1m62/62\u001b[0m \u001b[32m━━━━━━━━━━━━━━━━━━━━\u001b[0m\u001b[37m\u001b[0m \u001b[1m0s\u001b[0m 2ms/step - loss: 0.0907\n",
      "Epoch 2/10\n",
      "\u001b[1m62/62\u001b[0m \u001b[32m━━━━━━━━━━━━━━━━━━━━\u001b[0m\u001b[37m\u001b[0m \u001b[1m0s\u001b[0m 2ms/step - loss: 0.0907\n",
      "Epoch 3/10\n",
      "\u001b[1m62/62\u001b[0m \u001b[32m━━━━━━━━━━━━━━━━━━━━\u001b[0m\u001b[37m\u001b[0m \u001b[1m0s\u001b[0m 3ms/step - loss: 0.0907\n",
      "Epoch 4/10\n",
      "\u001b[1m62/62\u001b[0m \u001b[32m━━━━━━━━━━━━━━━━━━━━\u001b[0m\u001b[37m\u001b[0m \u001b[1m0s\u001b[0m 2ms/step - loss: 0.0907\n",
      "Epoch 5/10\n",
      "\u001b[1m62/62\u001b[0m \u001b[32m━━━━━━━━━━━━━━━━━━━━\u001b[0m\u001b[37m\u001b[0m \u001b[1m0s\u001b[0m 3ms/step - loss: 0.0907\n",
      "Epoch 6/10\n",
      "\u001b[1m62/62\u001b[0m \u001b[32m━━━━━━━━━━━━━━━━━━━━\u001b[0m\u001b[37m\u001b[0m \u001b[1m0s\u001b[0m 2ms/step - loss: 0.0907\n",
      "Epoch 7/10\n",
      "\u001b[1m62/62\u001b[0m \u001b[32m━━━━━━━━━━━━━━━━━━━━\u001b[0m\u001b[37m\u001b[0m \u001b[1m0s\u001b[0m 2ms/step - loss: 0.0907\n",
      "Epoch 8/10\n",
      "\u001b[1m62/62\u001b[0m \u001b[32m━━━━━━━━━━━━━━━━━━━━\u001b[0m\u001b[37m\u001b[0m \u001b[1m0s\u001b[0m 2ms/step - loss: 0.0907\n",
      "Epoch 9/10\n",
      "\u001b[1m62/62\u001b[0m \u001b[32m━━━━━━━━━━━━━━━━━━━━\u001b[0m\u001b[37m\u001b[0m \u001b[1m0s\u001b[0m 2ms/step - loss: 0.0907\n",
      "Epoch 10/10\n",
      "\u001b[1m62/62\u001b[0m \u001b[32m━━━━━━━━━━━━━━━━━━━━\u001b[0m\u001b[37m\u001b[0m \u001b[1m0s\u001b[0m 2ms/step - loss: 0.0907\n"
     ]
    }
   ],
   "source": [
    "# Run this section if you want to use NN model\n",
    "\n",
    "array1, headers1, non_nan_indices1, num_grids1 = nn.data_arranger(data1.df)\n",
    "array2, headers2, non_nan_indices2, num_grids2 = nn.data_arranger(data2.df)\n",
    "\n",
    "# The learning rate, batch size, and epochs are proven to be working.\n",
    "\n",
    "nn_model = nn.model_create_compile(headers1, 0.05)\n",
    "\n",
    "nn_model, loss_hist = nn.model_train(nn_model, array1, 1000, 10)\n",
    "nn_model, loss_hist = nn.model_train(nn_model, array2, 1000, 10)"
   ]
  },
  {
   "cell_type": "code",
   "execution_count": null,
   "metadata": {},
   "outputs": [],
   "source": [
    "# Run this section if you want to use CNN model\n",
    "\n",
    "array1, headers1, indices1 = cnn.data_arranger(data1.df, resolution)\n",
    "array2, headers2, indices2 = cnn.data_arranger(data2.df, resolution)\n",
    "\n",
    "# The learning rate and epochs are proven to be working.\n",
    "\n",
    "cnn_model = cnn.model_2D_create_compile(headers1, 0.05, resolution)\n",
    "\n",
    "cnn_model, loss_hist = cnn.model_2D_train(cnn_model, array1, 3)\n",
    "cnn_model, loss_hist = cnn.model_2D_train(cnn_model, array2, 3)"
   ]
  },
  {
   "cell_type": "markdown",
   "metadata": {},
   "source": [
    "# Data Classification"
   ]
  },
  {
   "cell_type": "markdown",
   "metadata": {},
   "source": [
    "Choose codes from these 3 codes below to run if you want to classify few individual data."
   ]
  },
  {
   "cell_type": "code",
   "execution_count": 14,
   "metadata": {},
   "outputs": [
    {
     "name": "stdout",
     "output_type": "stream",
     "text": [
      "Trying to open the file at MORE_DATA/db_Y_0049.okc...\n",
      "Obtained metadata of the file at MORE_DATA/db_Y_0049.okc.\n",
      "This data is sliced.\n",
      "Trying to open the file at MORE_DATA/db_Y_0049.okc...\n",
      "Obtained metadata of the file at MORE_DATA/db_Y_0049.okc.\n",
      "Obtain the time for this data.\n",
      "Trying to open the file at MORE_DATA/db_Y_0049.okc...\n",
      "Obtained metadata of the file at MORE_DATA/db_Y_0049.okc.\n",
      "Finished mapping this data to your specified resolution.\n",
      "Regularizing parameters...\n",
      "Regularizing parameters...\n",
      "Regularizing parameters...\n",
      "Converting the temperature data to multi-dimensional array...\n",
      "Calculating the gradient of temperature...\n",
      "Finished calculating gradient.\n",
      "Converting the velocity_magnitude data to multi-dimensional array...\n",
      "Calculating the gradient of velocity_magnitude...\n",
      "Finished calculating gradient.\n",
      "Converting the z_velocity data to multi-dimensional array...\n",
      "Calculating the gradient of z_velocity...\n",
      "Finished calculating gradient.\n"
     ]
    }
   ],
   "source": [
    "data3 = analyzer.Data(\"MORE_DATA/db_Y_0049.okc\", resolution)"
   ]
  },
  {
   "cell_type": "code",
   "execution_count": 15,
   "metadata": {},
   "outputs": [
    {
     "name": "stdout",
     "output_type": "stream",
     "text": [
      "Normalizing gradient datas...\n",
      "Rearranging data to tensor for model classification...\n",
      "Obtained regularized tensor.\n",
      "\u001b[1m1917/1917\u001b[0m \u001b[32m━━━━━━━━━━━━━━━━━━━━\u001b[0m\u001b[37m\u001b[0m \u001b[1m2s\u001b[0m 786us/step\n",
      "Finished classifying data.\n"
     ]
    }
   ],
   "source": [
    "# Run this code if your model choice is NN\n",
    "array3, headers3, non_nan_indices3, num_grids3 = nn.data_arranger(data3.df)\n",
    "data3.df = nn.model_classification(nn_model, array3, non_nan_indices3, num_grids3, data3.df, False)"
   ]
  },
  {
   "cell_type": "code",
   "execution_count": null,
   "metadata": {},
   "outputs": [],
   "source": [
    "# Run this code if your model choice is CNN\n",
    "array3, headers3, indices3 = cnn.data_arranger(data3.df, resolution)\n",
    "data3.df = cnn.model_2D_classification(cnn_model, array3, indices3, data3.df, False)"
   ]
  },
  {
   "cell_type": "markdown",
   "metadata": {},
   "source": [
    "Choose codes from these 3 codes below to run if you want to classify a series of data."
   ]
  },
  {
   "cell_type": "code",
   "execution_count": null,
   "metadata": {},
   "outputs": [],
   "source": [
    "list_paths_classify = [f\"MORE_DATA/db_Y_{i:04d}.okc\" for i in range(99)]\n",
    "\n",
    "Data_classify = [analyzer.Data(path, list_paths_classify, resolution) for path in list_paths_classify] "
   ]
  },
  {
   "cell_type": "code",
   "execution_count": null,
   "metadata": {},
   "outputs": [],
   "source": [
    "# Run this code if your model choice is NN\n",
    "for data in Data_classify:\n",
    "    array, headers, non_nan_indices, num_grids = nn.data_arranger(data.df)\n",
    "    data.df = nn.model_classification(nn_model, array, non_nan_indices, num_grids, data.df, False)"
   ]
  },
  {
   "cell_type": "code",
   "execution_count": null,
   "metadata": {},
   "outputs": [],
   "source": [
    "# Run this code if your model choice is CNN\n",
    "for data in Data_classify:\n",
    "    array, headers, indices = cnn.data_arranger(data.df, data.resolution)\n",
    "    data.df = cnn.model_2D_classification(cnn_model, array, indices, data.df, False)"
   ]
  },
  {
   "cell_type": "markdown",
   "metadata": {},
   "source": [
    "# Data Export"
   ]
  },
  {
   "cell_type": "markdown",
   "metadata": {},
   "source": [
    "Choose codes from these 2 codes below to run if you want to classify few individual data."
   ]
  },
  {
   "cell_type": "code",
   "execution_count": 16,
   "metadata": {},
   "outputs": [],
   "source": [
    "# Run this code to export the image\n",
    "visualizer.plot_2D_df(data3.df, 'is_boundary', 'classification.png')"
   ]
  },
  {
   "cell_type": "code",
   "execution_count": 8,
   "metadata": {},
   "outputs": [],
   "source": [
    "# Run this code to export the csv file\n",
    "data3.df.to_csv('classification.csv', index=False)"
   ]
  },
  {
   "cell_type": "markdown",
   "metadata": {},
   "source": [
    "Choose codes from these 2 codes below to run if you want to classify a series of data."
   ]
  },
  {
   "cell_type": "code",
   "execution_count": null,
   "metadata": {},
   "outputs": [],
   "source": [
    "# Run this code to export the image\n",
    "for i, data in enumerate(Data_classify):\n",
    "    visualizer.plot_2D_df(data.df, 'is_boundary', f'classification_{i}.png')"
   ]
  },
  {
   "cell_type": "code",
   "execution_count": null,
   "metadata": {},
   "outputs": [],
   "source": [
    "# Run this code to export the csv file\n",
    "for i, data in enumerate(Data_classify):\n",
    "    data.df.to_csv(f'classification_{i}.csv', index=False)"
   ]
  },
  {
   "cell_type": "markdown",
   "metadata": {},
   "source": [
    "# Temporary Code Zone\n",
    "---"
   ]
  },
  {
   "cell_type": "markdown",
   "metadata": {},
   "source": [
    "### Merge CSV"
   ]
  },
  {
   "cell_type": "code",
   "execution_count": null,
   "metadata": {},
   "outputs": [],
   "source": [
    "import os\n",
    "import csv\n",
    "\n",
    "# 指定文件夹路径\n",
    "path = '3D_DATA/small_db_result'\n",
    "output_file = '3D_DATA/small_db.csv'\n",
    "\n",
    "# 获取所有csv文件的文件名\n",
    "files = [file for file in os.listdir(path) if file.endswith('.csv')]\n",
    "\n",
    "# 打开输出文件，准备写入合并后的内容\n",
    "with open(output_file, 'w', newline='', encoding='utf-8') as outfile:\n",
    "    writer = None  # 创建一个CSV写入器，但先不初始化\n",
    "    \n",
    "    # 遍历所有CSV文件\n",
    "    for index, filename in enumerate(files):\n",
    "        # 显示进度\n",
    "        print(f\"merging file: {index + 1}/{len(files)}\", flush=True)\n",
    "        \n",
    "        with open(os.path.join(path, filename), 'r', encoding='utf-8') as infile:\n",
    "            reader = csv.reader(infile)\n",
    "            \n",
    "            # 获取文件的第一行（标题）\n",
    "            header = next(reader)\n",
    "            \n",
    "            # 如果是第一个文件，写入标题\n",
    "            if writer is None:\n",
    "                writer = csv.writer(outfile)\n",
    "                writer.writerow(header)\n",
    "            \n",
    "            # 从第二行开始读取并写入\n",
    "            for row in reader:\n",
    "                writer.writerow(row)\n",
    "\n",
    "print(\"All files merged successfully!\")\n"
   ]
  },
  {
   "cell_type": "markdown",
   "metadata": {},
   "source": [
    "### Plot Streamline"
   ]
  },
  {
   "cell_type": "code",
   "execution_count": null,
   "metadata": {},
   "outputs": [],
   "source": [
    "from pyvista import examples\n",
    "\n",
    "# Download the carotid mesh example\n",
    "mesh = examples.download_carotid()\n",
    "import pyvista as pv\n",
    "from pyvista import examples\n",
    "\n",
    "# Download the carotid mesh example\n",
    "mesh = examples.download_carotid()\n",
    "\n",
    "# Generate streamlines and source\n",
    "streamlines, src = mesh.streamlines(\n",
    "    return_source=True,\n",
    "    max_time=100.0,\n",
    "    initial_step_length=2.0,\n",
    "    terminal_speed=0.1,\n",
    "    n_points=25,\n",
    "    source_radius=2.0,\n",
    "    source_center=(133.1, 116.3, 5.0),\n",
    ")\n",
    "\n",
    "# Set up an off-screen plotter\n",
    "p = pv.Plotter(off_screen=True)  # Enable offscreen rendering\n",
    "p.add_mesh(mesh.outline(), color=\"k\")\n",
    "p.add_mesh(streamlines.tube(radius=0.15))\n",
    "p.add_mesh(src)\n",
    "p.add_mesh(mesh.contour([160]).extract_all_edges(), color=\"grey\", opacity=0.25)\n",
    "p.camera_position = [(182.0, 177.0, 50), (139, 105, 19), (-0.2, -0.2, 1)]\n",
    "\n",
    "# Render and save the screenshot\n",
    "p.export_html(\"carotid_streamlines.html\")\n",
    "\n"
   ]
  },
  {
   "cell_type": "markdown",
   "metadata": {},
   "source": [
    "### Test"
   ]
  },
  {
   "cell_type": "code",
   "execution_count": null,
   "metadata": {},
   "outputs": [],
   "source": [
    "import pandas as pd\n",
    "import numpy as np\n",
    "import pyvista as pv\n",
    "from scipy.interpolate import griddata\n",
    "\n",
    "\n",
    "\n",
    "# Step 1: Read and preprocess your data\n",
    "df = pd.read_csv('3D_DATA/ra10e7_result/ra10e7_100.csv')\n",
    "\n",
    "# Keep only necessary columns\n",
    "df = df[['x', 'z', 'x_velocity', 'z_velocity']].dropna()\n",
    "\n",
    "# Get unique sorted x and z values\n",
    "x_values = np.sort(df['x'].unique())\n",
    "z_values = np.sort(df['z'].unique())\n",
    "\n",
    "dx = np.diff(x_values).mean()\n",
    "\n",
    "# Define grid points for interpolation\n",
    "grid_x, grid_z = np.meshgrid(x_values, z_values, indexing='ij')\n",
    "\n",
    "# Prepare the data for interpolation\n",
    "points = df[['x', 'z']].values\n",
    "u_values = df['x_velocity'].values\n",
    "w_values = df['z_velocity'].values\n",
    "\n",
    "# Interpolate velocities onto the grid\n",
    "u_grid = griddata(points, u_values, (grid_x, grid_z), method='linear')\n",
    "w_grid = griddata(points, w_values, (grid_x, grid_z), method='linear')\n",
    "\n",
    "# Replace NaNs in interpolated data with zeros or nearest values\n",
    "u_grid = np.nan_to_num(u_grid, nan=0.0)\n",
    "w_grid = np.nan_to_num(w_grid, nan=0.0)\n",
    "\n",
    "# Step 2: Create a structured grid\n",
    "x_grid_3d = grid_x\n",
    "y_grid_3d = np.zeros_like(grid_x)\n",
    "z_grid_3d = grid_z\n",
    "grid = pv.StructuredGrid(x_grid_3d, y_grid_3d, z_grid_3d)\n",
    "\n",
    "# Flatten the arrays in Fortran order\n",
    "u_flat = u_grid.ravel(order='F')\n",
    "w_flat = w_grid.ravel(order='F')\n",
    "\n",
    "# Create the velocity array\n",
    "velocity = np.column_stack((u_flat, np.zeros_like(u_flat), w_flat))\n",
    "\n",
    "# Assign the velocity data to the grid\n",
    "grid.point_data['velocity'] = velocity\n",
    "\n",
    "# Step 3: Compute streamlines\n",
    "# Define seed points along the left edge\n",
    "# Define a grid of seed points\n",
    "x_seed, z_seed = np.meshgrid(\n",
    "    np.linspace(x_values[0], x_values[-1], 4),\n",
    "    np.linspace(z_values[0], z_values[-1], 4)\n",
    ")\n",
    "x_seed = x_seed.ravel()\n",
    "z_seed = z_seed.ravel()\n",
    "y_seed = np.zeros_like(x_seed)\n",
    "\n",
    "# Combine into seed points\n",
    "seed_points = np.column_stack((x_seed, y_seed, z_seed))\n",
    "seed = pv.PolyData(seed_points)\n",
    "\n",
    "# Compute streamlines from the seed points\n",
    "streamlines = grid.streamlines_from_source(\n",
    "    source=seed,\n",
    "    vectors='velocity',\n",
    "    integration_direction='both',\n",
    "    max_time=100,\n",
    "    initial_step_length=dx,\n",
    "    terminal_speed=1e-5\n",
    ")\n",
    "\n",
    "# Step 4: Plot and export the streamlines\n",
    "plotter = pv.Plotter(off_screen=True)\n",
    "plotter.add_mesh(grid.outline(), color='k')\n",
    "plotter.add_mesh(streamlines.tube(radius=dx*0.5), color='blue')\n",
    "plotter.view_xy()\n",
    "\n",
    "# Export to an HTML file\n",
    "plotter.export_html('streamlines.html')\n"
   ]
  }
 ],
 "metadata": {
  "kernelspec": {
   "display_name": ".venv",
   "language": "python",
   "name": "python3"
  },
  "language_info": {
   "codemirror_mode": {
    "name": "ipython",
    "version": 3
   },
   "file_extension": ".py",
   "mimetype": "text/x-python",
   "name": "python",
   "nbconvert_exporter": "python",
   "pygments_lexer": "ipython3",
   "version": "3.12.1"
  }
 },
 "nbformat": 4,
 "nbformat_minor": 2
}
